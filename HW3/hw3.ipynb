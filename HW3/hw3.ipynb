{
 "cells": [
  {
   "attachments": {},
   "cell_type": "markdown",
   "metadata": {},
   "source": [
    "### Omar Abdelmotaleb\n",
    "### Assignment 3: K-mean clustering\n",
    "### CS-559-B\n",
    "### I pledge my honor that I have abided by the Stevens Honor System."
   ]
  },
  {
   "attachments": {},
   "cell_type": "markdown",
   "metadata": {},
   "source": [
    "---"
   ]
  },
  {
   "attachments": {},
   "cell_type": "markdown",
   "metadata": {},
   "source": [
    "# Problem 1: K-means algorithm"
   ]
  },
  {
   "cell_type": "code",
   "execution_count": 20,
   "metadata": {},
   "outputs": [],
   "source": [
    "import numpy as np\n",
    "from matplotlib import pyplot as plt"
   ]
  },
  {
   "cell_type": "code",
   "execution_count": 21,
   "metadata": {},
   "outputs": [],
   "source": [
    "# https://medium.com/geekculture/implementing-k-means-clustering-with-k-means-initialization-in-python-7ca5a859d63a\n",
    "\n",
    "# The K-means algorithm follows the following steps:\n",
    "\n",
    "# 1. Pick n data points that will act as the initial centroids.\n",
    "# 2. Calculate the Euclidean distance of each data point from each of the centroid points selected in step 1.\n",
    "# 3. Form data clusters by assigning every data point to whichever centroid it has the smallest distance from.\n",
    "# 4. Take the average of each formed cluster. The mean points are our new centroids.\n",
    "\n",
    "X = np.array([\n",
    "[5.9, 3.2],\n",
    "[4.6, 2.9],\n",
    "[6.2, 2.8],\n",
    "[4.7, 3.2],\n",
    "[5.5, 4.2],\n",
    "[5.0, 3.0],\n",
    "[4.9, 3.1],\n",
    "[6.7, 3.1],\n",
    "[5.1, 3.8],\n",
    "[6.0, 3.0]\n",
    "])\n",
    "\n",
    "u1 = np.array([6.2, 3.2]) # Red\n",
    "u2 = np.array([6.6, 3.7]) # Green\n",
    "u3 = np.array([6.5, 3.0]) # Blue\n",
    "centroids = np.array([u1, u2, u3])\n",
    "# plt.scatter(X[:,0], X[:,1], s=50)\n",
    "# plt.show()"
   ]
  },
  {
   "cell_type": "code",
   "execution_count": 22,
   "metadata": {},
   "outputs": [],
   "source": [
    "def euclidean(point, data):\n",
    "    return np.sqrt(np.sum((point - data)**2, axis=1))"
   ]
  },
  {
   "cell_type": "code",
   "execution_count": 23,
   "metadata": {},
   "outputs": [],
   "source": [
    "# Index 0 = Red, 1 = Green, 2 = Blue\n",
    "\n",
    "def calculate_centroids(data_v, centroids_v, output=False):\n",
    "    \n",
    "    clusters = {0: [], 1: [], 2: []}\n",
    "    \n",
    "    for val_data in data_v:\n",
    "        # Calculate euclidean distance of each point from each centroid point\n",
    "        d = euclidean(val_data, centroids_v)\n",
    "\n",
    "        # Form data clusters, assigning each point to the centroid of smallest distance\n",
    "        clusters[np.argmin(d)].append(val_data)\n",
    "        if output: \n",
    "            print(f\"Data: {val_data} with distances {d}. Min: {np.min(d)} at index {np.argmin(d)}\")\n",
    "\n",
    "    if output:\n",
    "        print(f\"Clusters: {clusters}\") \n",
    "\n",
    "    # Take the averages of each cluster. Becomes the new centroids.\n",
    "    red_cluster     = np.mean(clusters[0], axis=0)\n",
    "    green_cluster   = np.mean(clusters[1], axis=0)\n",
    "    blue_cluster    = np.mean(clusters[2], axis=0)\n",
    "\n",
    "    centroids_ret   = np.array([red_cluster, green_cluster, blue_cluster])\n",
    "\n",
    "    if output:\n",
    "        print(f\"Centroids: {centroids_ret}\")\n",
    "\n",
    "    return clusters, centroids_ret"
   ]
  },
  {
   "attachments": {},
   "cell_type": "markdown",
   "metadata": {},
   "source": [
    "---"
   ]
  },
  {
   "cell_type": "code",
   "execution_count": 24,
   "metadata": {},
   "outputs": [
    {
     "data": {
      "image/png": "[encoded data removed]",
      "text/plain": [
       "<Figure size 432x288 with 1 Axes>"
      ]
     },
     "metadata": {
      "needs_background": "light"
     },
     "output_type": "display_data"
    }
   ],
   "source": [
    "# Define number of iterations\n",
    "iterations = 2\n",
    "\n",
    "for i in range(iterations):\n",
    "    clusters, centroids = calculate_centroids(data_v=X, centroids_v=centroids, output=False)\n",
    "    # print(f\"Iteration {i}, clusters: \\n{clusters} \\ncentroids: \\n{centroids}\")\n",
    "\n",
    "# Alternate between colors dependent on cluster (0=red,1=green,2=blue)\n",
    "colors = [\"r\", \"g\", \"b\"]\n",
    "c = 0\n",
    "for points in clusters.values():\n",
    "    for point in points:  \n",
    "        x = point[0]\n",
    "        y = point[1]\n",
    "        plt.scatter(x, y, s=50, color = colors[c])\n",
    "    c += 1\n",
    "    \n",
    "plt.scatter(centroids[:,0], centroids[:,1], s=50, color=\"k\")\n",
    "plt.show()"
   ]
  },
  {
   "attachments": {},
   "cell_type": "markdown",
   "metadata": {},
   "source": [
    "# Problem 4: Neural Networks"
   ]
  },
  {
   "attachments": {},
   "cell_type": "markdown",
   "metadata": {},
   "source": [
    "---"
   ]
  },
  {
   "cell_type": "code",
   "execution_count": 26,
   "metadata": {},
   "outputs": [],
   "source": [
    "import pandas as pd"
   ]
  },
  {
   "cell_type": "code",
   "execution_count": 27,
   "metadata": {},
   "outputs": [],
   "source": [
    "col_names = ['Sepal_Length','Sepal_Width','Petal_Length','Petal_Width','Class']\n",
    "iris = pd.read_csv(\"iris.data\", names = col_names)\n",
    "from sklearn.model_selection import train_test_split\n",
    "train, test = train_test_split(iris.sample(frac=1), test_size=0.2)\n",
    "\n",
    "epochs = 5"
   ]
  },
  {
   "cell_type": "code",
   "execution_count": 58,
   "metadata": {},
   "outputs": [
    {
     "name": "stdout",
     "output_type": "stream",
     "text": [
      "Training accuracy:  0.9083333333333333\n",
      "Testing accuracy:  0.7\n"
     ]
    }
   ],
   "source": [
    "class NeuralNetwork:\n",
    "    def __init__(self, input_size, hidden_size, output_size):\n",
    "        \n",
    "        # From input to hidden\n",
    "        self.W1 = np.matrix(np.random.randn(hidden_size, input_size))\n",
    "        self.b1 = np.matrix(np.zeros((hidden_size, 1)))\n",
    "\n",
    "        # From hidden to output\n",
    "        self.W2 = np.matrix(np.random.randn(output_size, hidden_size))\n",
    "        self.b2 = np.matrix(np.zeros((output_size, 1)))\n",
    "\n",
    "    def softmax(self, x):\n",
    "        return np.exp(x) / np.sum(np.exp(x))\n",
    "\n",
    "    def forward(self, x):\n",
    "        self.Z1 = np.dot(self.W1, x) + self.b1\n",
    "        self.h1 = self.softmax(self.Z1)\n",
    "        \n",
    "        self.Z2 = np.dot(self.W2, x) + self.b2\n",
    "        self.h2 = self.softmax(self.Z2)\n",
    "        \n",
    "        self.y_hat = self.h2\n",
    "\n",
    "        return self.y_hat\n",
    "\n",
    "    def backwards(self, x, y, learning_rate = 0.1):\n",
    "        # Output to hidden\n",
    "        self.dZ2 = self.y_hat - y\n",
    "        self.dW2 = np.dot(self.dZ2, self.h1.T)\n",
    "        self.db2 = self.dZ2\n",
    "\n",
    "        # Hidden to input\n",
    "        self.dZ1 = self.W2.T * (np.dot(np.dot(self.dZ2, self.h1.T), (1 - self.h1)))\n",
    "        self.dW1 = self.dZ1 * x.T\n",
    "        self.db1 = self.dZ1\n",
    "\n",
    "        # Update weights and biases\n",
    "        self.W1 -= (learning_rate * self.dW1)\n",
    "        self.b1 -= (learning_rate * self.db1)\n",
    "        self.W2 -= (learning_rate * self.dW2)\n",
    "        self.b2 -= (learning_rate * self.db2)\n",
    "\n",
    "def target_matrix(target):\n",
    "    if target == \"Iris-setosa\":\n",
    "        # target = 1\n",
    "        return [1, 0, 0]\n",
    "    elif target == \"Iris-versicolor\":\n",
    "        # target = 2\n",
    "        return [0, 1, 0]\n",
    "    elif target == \"Iris-virginica\":\n",
    "        return [0, 0, 1]\n",
    "    \n",
    "    return [0, 0, 0]\n",
    "\n",
    "class_labels = {\n",
    "    0: \"Iris-setosa\",\n",
    "    1: \"Iris-versicolor\",\n",
    "    2: \"Iris-virginica\"\n",
    "}\n",
    "\n",
    "nn = NeuralNetwork(4, 4, 3)\n",
    "\n",
    "training_accuracy = []\n",
    "\n",
    "for _, row in train.iterrows():\n",
    "    # Extract input and target vectors from iris\n",
    "    data = list(row)\n",
    "    input_vector = np.matrix(data[:4]).T\n",
    "    target = data[4:][0]\n",
    "    \n",
    "    target = np.matrix(target_matrix(target)).T\n",
    "\n",
    "    for i in range(epochs):\n",
    "        prediction = nn.forward(input_vector)\n",
    "        nn.backwards(input_vector, target)\n",
    "\n",
    "    label_pred = class_labels[np.argmax(prediction)]\n",
    "\n",
    "    if label_pred == data[4:][0]:\n",
    "        training_accuracy.append(1)\n",
    "    else:\n",
    "        training_accuracy.append(0)\n",
    "\n",
    "print(\"Training accuracy: \", sum(training_accuracy) / len(training_accuracy))\n",
    "\n",
    "testing_accuracy = []\n",
    "\n",
    "for _, row in test.iterrows():\n",
    "    data = list(row)\n",
    "    input_vector = np.matrix(data[:4]).T\n",
    "    target = data[4:][0]\n",
    "\n",
    "    for i in range(epochs):\n",
    "        prediction = nn.forward(input_vector)\n",
    "\n",
    "    label_pred = class_labels[np.argmax(prediction)]\n",
    "\n",
    "    if label_pred == target:\n",
    "        testing_accuracy.append(1)\n",
    "    else:\n",
    "        testing_accuracy.append(0)\n",
    "\n",
    "print(\"Testing accuracy: \", sum(testing_accuracy) / len(testing_accuracy))"
   ]
  },
  {
   "attachments": {},
   "cell_type": "markdown",
   "metadata": {},
   "source": [
    "### Part 2"
   ]
  },
  {
   "cell_type": "code",
   "execution_count": 77,
   "metadata": {},
   "outputs": [
    {
     "name": "stdout",
     "output_type": "stream",
     "text": [
      "Train on 120 samples, validate on 30 samples\n",
      "Epoch 1/5\n",
      "120/120 [==============================] - 0s 3ms/sample - loss: 0.5555 - val_loss: 0.6015\n",
      "Epoch 2/5\n",
      "120/120 [==============================] - 0s 37us/sample - loss: 0.5435 - val_loss: 0.5889\n",
      "Epoch 3/5\n",
      "120/120 [==============================] - 0s 33us/sample - loss: 0.5312 - val_loss: 0.5774\n",
      "Epoch 4/5\n",
      "120/120 [==============================] - 0s 33us/sample - loss: 0.5194 - val_loss: 0.5668\n",
      "Epoch 5/5\n",
      "120/120 [==============================] - 0s 37us/sample - loss: 0.5078 - val_loss: 0.5565\n",
      "[[0.04800151 0.00853997 0.02093817]\n",
      " [0.03536437 0.01631628 0.0149915 ]\n",
      " [0.05579869 0.01303262 0.01539   ]\n",
      " [0.03586452 0.01067142 0.02052179]\n",
      " [0.06403191 0.00779816 0.0194311 ]\n",
      " [0.0396423  0.01705617 0.01365887]\n",
      " [0.05123662 0.01220628 0.01684815]\n",
      " [0.05474155 0.01251015 0.01605627]\n",
      " [0.04252658 0.00909382 0.02115475]\n",
      " [0.01442299 0.07184982 0.04126272]]\n",
      "0     0.0\n",
      "8     0.0\n",
      "21    0.0\n",
      "30    0.0\n",
      "32    0.0\n",
      "38    0.0\n",
      "40    0.0\n",
      "44    0.0\n",
      "49    0.0\n",
      "50    0.5\n",
      "Name: Class, dtype: float64\n"
     ]
    }
   ],
   "source": [
    "# Followed a geeksforgeeks implementation\n",
    "# https://www.geeksforgeeks.org/implementing-neural-networks-using-tensorflow/\n",
    " \n",
    "import tensorflow as tf\n",
    "\n",
    "df = pd.read_csv(\"iris.data\", names = col_names)\n",
    "labels_class = {\n",
    "    \"Iris-setosa\": 0,\n",
    "    \"Iris-versicolor\": 1,\n",
    "    \"Iris-virginica\": 2\n",
    "}\n",
    "df['Class'] = [labels_class[thing] for thing in df[\"Class\"].tolist()]\n",
    "\n",
    "train_df = df.sample(frac=0.8, random_state=4)\n",
    "val_df = df.drop(train_df.index)\n",
    "\n",
    "max_val = train_df.max(axis= 0)\n",
    "min_val = train_df.min(axis= 0)\n",
    " \n",
    "range = max_val - min_val\n",
    "train_df = (train_df - min_val)/(range)\n",
    " \n",
    "val_df =  (val_df- min_val)/range\n",
    "\n",
    "X_train = train_df.drop('Class',axis=1)\n",
    "X_val = val_df.drop('Class',axis=1)\n",
    "y_train = train_df['Class']\n",
    "y_val = val_df['Class']\n",
    "\n",
    "input_shape = [X_train.shape[1]]\n",
    "\n",
    "\n",
    "model = tf.keras.Sequential([\n",
    "    tf.keras.layers.Dense(units=4, activation='relu', input_shape=input_shape),\n",
    "    tf.keras.layers.Dense(units=4, activation='relu'),\n",
    "    tf.keras.layers.Dense(units=3)\n",
    "])\n",
    "\n",
    "model.compile(optimizer='adam', loss='mae') \n",
    "losses = model.fit(X_train, y_train,\n",
    "    validation_data=(X_val, y_val),\n",
    "    epochs=epochs)\n",
    "\n",
    "# model.summary()\n",
    "print(model.predict(X_val.iloc[0:10, :]))\n",
    "print(y_val.iloc[0:10])"
   ]
  }
 ],
 "metadata": {
  "kernelspec": {
   "display_name": "Python 3.6.8 64-bit",
   "language": "python",
   "name": "python3"
  },
  "language_info": {
   "codemirror_mode": {
    "name": "ipython",
    "version": 3
   },
   "file_extension": ".py",
   "mimetype": "text/x-python",
   "name": "python",
   "nbconvert_exporter": "python",
   "pygments_lexer": "ipython3",
   "version": "3.6.8"
  },
  "orig_nbformat": 4,
  "vscode": {
   "interpreter": {
    "hash": "8db07568d5291589fd9bdf10b034f4dc95c29b35a7248c28d08b7cea35391d3e"
   }
  }
 },
 "nbformat": 4,
 "nbformat_minor": 2
}
